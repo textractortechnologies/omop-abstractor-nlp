{
 "cells": [
  {
   "cell_type": "code",
   "execution_count": 1,
   "metadata": {},
   "outputs": [],
   "source": [
    "import pandas as pd\n",
    "import spacy\n",
    "from spacy.matcher import PhraseMatcher\n",
    "from pathlib import Path\n",
    "from collections import namedtuple"
   ]
  },
  {
   "cell_type": "code",
   "execution_count": 2,
   "metadata": {},
   "outputs": [],
   "source": [
    "TermItem = namedtuple(\"TermItem\", [\"code\", \"title\", \"subs\"], defaults=[\"\", \"\", []])"
   ]
  },
  {
   "cell_type": "code",
   "execution_count": 3,
   "metadata": {},
   "outputs": [],
   "source": [
    "morph_path = Path(\"../data/ICD-O-3_CSV-metadata/Morphenglish.txt\")"
   ]
  },
  {
   "cell_type": "code",
   "execution_count": 4,
   "metadata": {},
   "outputs": [],
   "source": [
    "morph_df = pd.read_csv(morph_path, sep='\\t')"
   ]
  },
  {
   "cell_type": "code",
   "execution_count": 14,
   "metadata": {},
   "outputs": [
    {
     "data": {
      "text/html": [
       "<div>\n",
       "<style scoped>\n",
       "    .dataframe tbody tr th:only-of-type {\n",
       "        vertical-align: middle;\n",
       "    }\n",
       "\n",
       "    .dataframe tbody tr th {\n",
       "        vertical-align: top;\n",
       "    }\n",
       "\n",
       "    .dataframe thead th {\n",
       "        text-align: right;\n",
       "    }\n",
       "</style>\n",
       "<table border=\"1\" class=\"dataframe\">\n",
       "  <thead>\n",
       "    <tr style=\"text-align: right;\">\n",
       "      <th></th>\n",
       "      <th>Code</th>\n",
       "      <th>Struct</th>\n",
       "      <th>Label</th>\n",
       "    </tr>\n",
       "  </thead>\n",
       "  <tbody>\n",
       "    <tr>\n",
       "      <th>0</th>\n",
       "      <td>8000/0</td>\n",
       "      <td>title</td>\n",
       "      <td>Neoplasm, benign</td>\n",
       "    </tr>\n",
       "    <tr>\n",
       "      <th>1</th>\n",
       "      <td>8000/0</td>\n",
       "      <td>sub</td>\n",
       "      <td>Tumor, benign</td>\n",
       "    </tr>\n",
       "    <tr>\n",
       "      <th>2</th>\n",
       "      <td>8000/0</td>\n",
       "      <td>sub</td>\n",
       "      <td>Unclassified tumor, benign</td>\n",
       "    </tr>\n",
       "    <tr>\n",
       "      <th>3</th>\n",
       "      <td>8000/1</td>\n",
       "      <td>title</td>\n",
       "      <td>Neoplasm, uncertain whether benign or malignant</td>\n",
       "    </tr>\n",
       "    <tr>\n",
       "      <th>4</th>\n",
       "      <td>8000/1</td>\n",
       "      <td>sub</td>\n",
       "      <td>Neoplasm, NOS</td>\n",
       "    </tr>\n",
       "    <tr>\n",
       "      <th>...</th>\n",
       "      <td>...</td>\n",
       "      <td>...</td>\n",
       "      <td>...</td>\n",
       "    </tr>\n",
       "    <tr>\n",
       "      <th>2266</th>\n",
       "      <td>9987/3</td>\n",
       "      <td>sub</td>\n",
       "      <td>Therapy-related myelodysplastic syndrome, alky...</td>\n",
       "    </tr>\n",
       "    <tr>\n",
       "      <th>2267</th>\n",
       "      <td>9987/3</td>\n",
       "      <td>sub</td>\n",
       "      <td>Therapy-related myelodysplastic syndrome, epip...</td>\n",
       "    </tr>\n",
       "    <tr>\n",
       "      <th>2268</th>\n",
       "      <td>9989/3</td>\n",
       "      <td>title</td>\n",
       "      <td>Myelodysplastic syndrome, NOS</td>\n",
       "    </tr>\n",
       "    <tr>\n",
       "      <th>2269</th>\n",
       "      <td>9989/3</td>\n",
       "      <td>sub</td>\n",
       "      <td>Preleukemia</td>\n",
       "    </tr>\n",
       "    <tr>\n",
       "      <th>2270</th>\n",
       "      <td>9989/3</td>\n",
       "      <td>sub</td>\n",
       "      <td>Preleukemic syndrome</td>\n",
       "    </tr>\n",
       "  </tbody>\n",
       "</table>\n",
       "<p>2271 rows × 3 columns</p>\n",
       "</div>"
      ],
      "text/plain": [
       "        Code Struct                                              Label\n",
       "0     8000/0  title                                   Neoplasm, benign\n",
       "1     8000/0    sub                                      Tumor, benign\n",
       "2     8000/0    sub                         Unclassified tumor, benign\n",
       "3     8000/1  title    Neoplasm, uncertain whether benign or malignant\n",
       "4     8000/1    sub                                      Neoplasm, NOS\n",
       "...      ...    ...                                                ...\n",
       "2266  9987/3    sub  Therapy-related myelodysplastic syndrome, alky...\n",
       "2267  9987/3    sub  Therapy-related myelodysplastic syndrome, epip...\n",
       "2268  9989/3  title                      Myelodysplastic syndrome, NOS\n",
       "2269  9989/3    sub                                        Preleukemia\n",
       "2270  9989/3    sub                               Preleukemic syndrome\n",
       "\n",
       "[2271 rows x 3 columns]"
      ]
     },
     "execution_count": 14,
     "metadata": {},
     "output_type": "execute_result"
    }
   ],
   "source": [
    "morph_df"
   ]
  },
  {
   "cell_type": "code",
   "execution_count": 5,
   "metadata": {},
   "outputs": [],
   "source": [
    "term_item_dict = {}\n",
    "for index, row in morph_df.iterrows():\n",
    "    code, struct, label = row['Code'], row['Struct'], row['Label']\n",
    "    if code in term_item_dict:\n",
    "        ti = term_item_dict[code]\n",
    "        ti.subs.append(label)\n",
    "    else:\n",
    "        term_item_dict[code] = TermItem(code, label, [label])\n",
    "term_items = list(term_item_dict.values())"
   ]
  },
  {
   "cell_type": "code",
   "execution_count": 6,
   "metadata": {},
   "outputs": [
    {
     "data": {
      "text/plain": [
       "1032"
      ]
     },
     "execution_count": 6,
     "metadata": {},
     "output_type": "execute_result"
    }
   ],
   "source": [
    "len(term_items)"
   ]
  },
  {
   "cell_type": "code",
   "execution_count": 7,
   "metadata": {},
   "outputs": [],
   "source": [
    "def gen_match_function(term_item):\n",
    "    def on_match(matcher, doc, id, matches):\n",
    "        print(f\"Matched: {term_item.code}\", matches)\n",
    "    return on_match"
   ]
  },
  {
   "cell_type": "code",
   "execution_count": 8,
   "metadata": {},
   "outputs": [],
   "source": [
    "nlp = spacy.load(\"en_core_web_sm\", disable=['ner'])"
   ]
  },
  {
   "cell_type": "code",
   "execution_count": 9,
   "metadata": {},
   "outputs": [],
   "source": [
    "matcher = PhraseMatcher(nlp.vocab, attr=\"LEMMA\")"
   ]
  },
  {
   "cell_type": "code",
   "execution_count": 12,
   "metadata": {},
   "outputs": [],
   "source": [
    "for ti in term_items:\n",
    "    patterns = [nlp(sub) for sub in ti.subs]\n",
    "    matcher.add(ti.code, [nlp(sub) for sub in ti.subs], on_match=gen_match_function(ti))"
   ]
  },
  {
   "cell_type": "code",
   "execution_count": 13,
   "metadata": {},
   "outputs": [],
   "source": [
    "assert term_items[0].code in matcher"
   ]
  },
  {
   "cell_type": "code",
   "execution_count": 15,
   "metadata": {},
   "outputs": [
    {
     "name": "stdout",
     "output_type": "stream",
     "text": [
      "Matched: 8000/1 [(1660820348451189319, 2, 5)]\n"
     ]
    }
   ],
   "source": [
    "doc = nlp(\"FINDINGS: Neoplasm, NOS\")\n",
    "matches = matcher(doc)"
   ]
  },
  {
   "cell_type": "code",
   "execution_count": null,
   "metadata": {},
   "outputs": [],
   "source": []
  }
 ],
 "metadata": {
  "kernelspec": {
   "display_name": "Python 3",
   "language": "python",
   "name": "python3"
  },
  "language_info": {
   "codemirror_mode": {
    "name": "ipython",
    "version": 3
   },
   "file_extension": ".py",
   "mimetype": "text/x-python",
   "name": "python",
   "nbconvert_exporter": "python",
   "pygments_lexer": "ipython3",
   "version": "3.7.3"
  }
 },
 "nbformat": 4,
 "nbformat_minor": 4
}
