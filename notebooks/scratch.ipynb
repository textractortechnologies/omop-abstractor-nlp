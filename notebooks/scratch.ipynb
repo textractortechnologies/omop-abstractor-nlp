{
 "cells": [
  {
   "cell_type": "code",
   "execution_count": 1,
   "metadata": {},
   "outputs": [],
   "source": [
    "from pathlib import Path\n",
    "import spacy\n",
    "from pysbd.utils import PySBDFactory"
   ]
  },
  {
   "cell_type": "code",
   "execution_count": 2,
   "metadata": {},
   "outputs": [],
   "source": [
    "nlp = spacy.blank('en')\n",
    "nlp.add_pipe(PySBDFactory(nlp))"
   ]
  },
  {
   "cell_type": "code",
   "execution_count": 3,
   "metadata": {},
   "outputs": [],
   "source": [
    "path = Path('note.txt')\n",
    "text = path.read_text()\n",
    "doc = nlp(text)"
   ]
  },
  {
   "cell_type": "code",
   "execution_count": 4,
   "metadata": {},
   "outputs": [
    {
     "name": "stdout",
     "output_type": "stream",
     "text": [
      "=>Admission Date:  [**2151-7-16**]       Discharge Date:  [**2151-8-4**]\n",
      "\n",
      "\n",
      "<=\n",
      "=>Service:\n",
      "ADDENDUM:\n",
      "\n",
      "RADIOLOGIC STUDIES:  Radiologic studies also included a chest CT, which confirmed cavitary lesions in the left lung apex consistent with infectious process/tuberculosis.  <=\n",
      "=>This also moderate-sized left pleural effusion.\n",
      "\n",
      "<=\n",
      "=>HEAD CT:  Head CT showed no intracranial hemorrhage or mass effect, but old infarction consistent with past medical history.\n",
      "\n",
      "<=\n",
      "=>ABDOMINAL CT:  Abdominal CT showed lesions of T10 and sacrum most likely secondary to osteoporosis.<=\n",
      "=>These can be followed by repeat imaging as an outpatient.\n",
      "\n",
      "\n",
      "\n",
      "                            [**First Name8 (NamePattern2) **] [**First Name4 (NamePattern1) 1775**] [**Last Name (NamePattern1) **], M.D.  [**MD Number(1) 1776**]\n",
      "\n",
      "Dictated By:[**Hospital 1807**]\n",
      "MEDQUIST36\n",
      "\n",
      "D:  [**2151-8-5**]  12:11\n",
      "<=\n",
      "=>T:  [**2151-8-5**]  12:21\n",
      "<=\n",
      "=>JOB#:  [**Job Number 1808**]\n",
      "<=\n"
     ]
    }
   ],
   "source": [
    "for s in doc.sents:\n",
    "    print(f\"=>{s}<=\")"
   ]
  },
  {
   "cell_type": "code",
   "execution_count": null,
   "metadata": {},
   "outputs": [],
   "source": []
  }
 ],
 "metadata": {
  "kernelspec": {
   "display_name": "Python 3",
   "language": "python",
   "name": "python3"
  },
  "language_info": {
   "codemirror_mode": {
    "name": "ipython",
    "version": 3
   },
   "file_extension": ".py",
   "mimetype": "text/x-python",
   "name": "python",
   "nbconvert_exporter": "python",
   "pygments_lexer": "ipython3",
   "version": "3.7.3"
  }
 },
 "nbformat": 4,
 "nbformat_minor": 4
}
