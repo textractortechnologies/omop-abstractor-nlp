{
 "cells": [
  {
   "cell_type": "code",
   "execution_count": 2,
   "metadata": {},
   "outputs": [],
   "source": [
    "from pathlib import Path\n",
    "import pandas as pd"
   ]
  },
  {
   "cell_type": "code",
   "execution_count": 3,
   "metadata": {},
   "outputs": [
    {
     "name": "stdout",
     "output_type": "stream",
     "text": [
      "\u001b[31mMorphenglish.txt\u001b[m\u001b[m  \u001b[31mTopoenglish.txt\u001b[m\u001b[m   \u001b[31micd-o3 readme.txt\u001b[m\u001b[m\n"
     ]
    }
   ],
   "source": [
    "!ls ../data/ICD-O-3_CSV-metadata"
   ]
  },
  {
   "cell_type": "code",
   "execution_count": 4,
   "metadata": {},
   "outputs": [],
   "source": [
    "morph_path = Path(\"../data/ICD-O-3_CSV-metadata/Morphenglish.txt\")\n",
    "topo_path = Path(\"../data/ICD-O-3_CSV-metadata/Topoenglish.txt\")"
   ]
  },
  {
   "cell_type": "code",
   "execution_count": 5,
   "metadata": {},
   "outputs": [],
   "source": [
    "morph_df = pd.read_csv(morph_path, sep='\\t')\n",
    "topo_df = pd.read_csv(topo_path, sep='\\t')"
   ]
  },
  {
   "cell_type": "code",
   "execution_count": 8,
   "metadata": {},
   "outputs": [
    {
     "data": {
      "text/plain": [
       "0         C00\n",
       "1       C00.0\n",
       "2       C00.0\n",
       "3       C00.0\n",
       "4       C00.0\n",
       "        ...  \n",
       "1336    C77.5\n",
       "1337    C77.8\n",
       "1338    C77.9\n",
       "1339      C80\n",
       "1340    C80.9\n",
       "Name: Kode, Length: 1341, dtype: object"
      ]
     },
     "execution_count": 8,
     "metadata": {},
     "output_type": "execute_result"
    }
   ],
   "source": [
    "topo_df['Kode']"
   ]
  },
  {
   "cell_type": "code",
   "execution_count": 10,
   "metadata": {},
   "outputs": [
    {
     "data": {
      "text/html": [
       "<div>\n",
       "<style scoped>\n",
       "    .dataframe tbody tr th:only-of-type {\n",
       "        vertical-align: middle;\n",
       "    }\n",
       "\n",
       "    .dataframe tbody tr th {\n",
       "        vertical-align: top;\n",
       "    }\n",
       "\n",
       "    .dataframe thead th {\n",
       "        text-align: right;\n",
       "    }\n",
       "</style>\n",
       "<table border=\"1\" class=\"dataframe\">\n",
       "  <thead>\n",
       "    <tr style=\"text-align: right;\">\n",
       "      <th></th>\n",
       "      <th>Kode</th>\n",
       "      <th>Lvl</th>\n",
       "      <th>Title</th>\n",
       "    </tr>\n",
       "  </thead>\n",
       "  <tbody>\n",
       "    <tr>\n",
       "      <th>0</th>\n",
       "      <td>C00</td>\n",
       "      <td>3</td>\n",
       "      <td>LIP</td>\n",
       "    </tr>\n",
       "    <tr>\n",
       "      <th>1</th>\n",
       "      <td>C00.0</td>\n",
       "      <td>incl</td>\n",
       "      <td>Upper lip, NOS</td>\n",
       "    </tr>\n",
       "    <tr>\n",
       "      <th>2</th>\n",
       "      <td>C00.0</td>\n",
       "      <td>incl</td>\n",
       "      <td>skin of upper lip</td>\n",
       "    </tr>\n",
       "    <tr>\n",
       "      <th>3</th>\n",
       "      <td>C00.0</td>\n",
       "      <td>4</td>\n",
       "      <td>External upper lip</td>\n",
       "    </tr>\n",
       "    <tr>\n",
       "      <th>4</th>\n",
       "      <td>C00.0</td>\n",
       "      <td>incl</td>\n",
       "      <td>Vermilion border of upper lip</td>\n",
       "    </tr>\n",
       "    <tr>\n",
       "      <th>...</th>\n",
       "      <td>...</td>\n",
       "      <td>...</td>\n",
       "      <td>...</td>\n",
       "    </tr>\n",
       "    <tr>\n",
       "      <th>1336</th>\n",
       "      <td>C77.5</td>\n",
       "      <td>incl</td>\n",
       "      <td>Obturator lymph node</td>\n",
       "    </tr>\n",
       "    <tr>\n",
       "      <th>1337</th>\n",
       "      <td>C77.8</td>\n",
       "      <td>4</td>\n",
       "      <td>Lymph nodes of multiple regions</td>\n",
       "    </tr>\n",
       "    <tr>\n",
       "      <th>1338</th>\n",
       "      <td>C77.9</td>\n",
       "      <td>4</td>\n",
       "      <td>Lymph node, NOS</td>\n",
       "    </tr>\n",
       "    <tr>\n",
       "      <th>1339</th>\n",
       "      <td>C80</td>\n",
       "      <td>3</td>\n",
       "      <td>UNKNOWN PRIMARY SITE</td>\n",
       "    </tr>\n",
       "    <tr>\n",
       "      <th>1340</th>\n",
       "      <td>C80.9</td>\n",
       "      <td>4</td>\n",
       "      <td>Unknown primary site</td>\n",
       "    </tr>\n",
       "  </tbody>\n",
       "</table>\n",
       "<p>1341 rows × 3 columns</p>\n",
       "</div>"
      ],
      "text/plain": [
       "       Kode   Lvl                            Title\n",
       "0       C00     3                              LIP\n",
       "1     C00.0  incl                   Upper lip, NOS\n",
       "2     C00.0  incl                skin of upper lip\n",
       "3     C00.0     4               External upper lip\n",
       "4     C00.0  incl    Vermilion border of upper lip\n",
       "...     ...   ...                              ...\n",
       "1336  C77.5  incl             Obturator lymph node\n",
       "1337  C77.8     4  Lymph nodes of multiple regions\n",
       "1338  C77.9     4                  Lymph node, NOS\n",
       "1339    C80     3             UNKNOWN PRIMARY SITE\n",
       "1340  C80.9     4             Unknown primary site\n",
       "\n",
       "[1341 rows x 3 columns]"
      ]
     },
     "execution_count": 10,
     "metadata": {},
     "output_type": "execute_result"
    }
   ],
   "source": [
    "topo_df"
   ]
  },
  {
   "cell_type": "code",
   "execution_count": null,
   "metadata": {},
   "outputs": [],
   "source": []
  }
 ],
 "metadata": {
  "kernelspec": {
   "display_name": "Python 3",
   "language": "python",
   "name": "python3"
  },
  "language_info": {
   "codemirror_mode": {
    "name": "ipython",
    "version": 3
   },
   "file_extension": ".py",
   "mimetype": "text/x-python",
   "name": "python",
   "nbconvert_exporter": "python",
   "pygments_lexer": "ipython3",
   "version": "3.7.3"
  }
 },
 "nbformat": 4,
 "nbformat_minor": 4
}
